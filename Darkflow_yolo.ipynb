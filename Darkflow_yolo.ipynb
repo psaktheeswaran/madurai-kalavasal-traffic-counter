{
  "nbformat": 4,
  "nbformat_minor": 0,
  "metadata": {
    "colab": {
      "provenance": []
    },
    "kernelspec": {
      "name": "python3",
      "display_name": "Python 3"
    },
    "language_info": {
      "name": "python"
    }
  },
  "cells": [
    {
      "cell_type": "code",
      "execution_count": 1,
      "metadata": {
        "colab": {
          "base_uri": "https://localhost:8080/"
        },
        "id": "j6zIm9sl0gyL",
        "outputId": "984f80db-8ba0-4548-e4a7-06991caf3bae"
      },
      "outputs": [
        {
          "output_type": "stream",
          "name": "stdout",
          "text": [
            "Cloning into 'DarkFlow'...\n",
            "remote: Enumerating objects: 130, done.\u001b[K\n",
            "remote: Counting objects: 100% (9/9), done.\u001b[K\n",
            "remote: Compressing objects: 100% (9/9), done.\u001b[K\n",
            "remote: Total 130 (delta 4), reused 0 (delta 0), pack-reused 121\u001b[K\n",
            "Receiving objects: 100% (130/130), 18.88 MiB | 30.88 MiB/s, done.\n",
            "Resolving deltas: 100% (31/31), done.\n"
          ]
        }
      ],
      "source": [
        "!git clone https://github.com/ZayedKherani/DarkFlow.git"
      ]
    },
    {
      "cell_type": "code",
      "source": [
        "%cd /content/DarkFlow"
      ],
      "metadata": {
        "colab": {
          "base_uri": "https://localhost:8080/"
        },
        "id": "pgnWMlDR1etz",
        "outputId": "e2c5297c-b0c6-493e-a9bc-9ccc61d9bccb"
      },
      "execution_count": 2,
      "outputs": [
        {
          "output_type": "stream",
          "name": "stdout",
          "text": [
            "/content/DarkFlow\n"
          ]
        }
      ]
    },
    {
      "cell_type": "code",
      "source": [
        "!python3 setup.py build_ext --inplace\n"
      ],
      "metadata": {
        "colab": {
          "base_uri": "https://localhost:8080/"
        },
        "id": "W3lxF3lQ1lBq",
        "outputId": "bf8e486a-9f69-44a7-d9dc-4de57b9b938e"
      },
      "execution_count": 3,
      "outputs": [
        {
          "output_type": "stream",
          "name": "stdout",
          "text": [
            "/content/DarkFlow/setup.py:6: DeprecationWarning: the imp module is deprecated in favour of importlib and slated for removal in Python 3.12; see the module's documentation for alternative uses\n",
            "  import imp\n",
            "Compiling darkflow/cython_utils/nms.pyx because it changed.\n",
            "Compiling darkflow/cython_utils/cy_yolo2_findboxes.pyx because it changed.\n",
            "Compiling darkflow/cython_utils/cy_yolo_findboxes.pyx because it changed.\n",
            "[1/3] Cythonizing darkflow/cython_utils/cy_yolo2_findboxes.pyx\n",
            "/usr/local/lib/python3.10/dist-packages/Cython/Compiler/Main.py:369: FutureWarning: Cython directive 'language_level' not set, using 2 for now (Py2). This will change in a later release! File: /content/DarkFlow/darkflow/cython_utils/cy_yolo2_findboxes.pyx\n",
            "  tree = Parsing.p_module(s, pxd, full_module_name)\n",
            "[2/3] Cythonizing darkflow/cython_utils/cy_yolo_findboxes.pyx\n",
            "/usr/local/lib/python3.10/dist-packages/Cython/Compiler/Main.py:369: FutureWarning: Cython directive 'language_level' not set, using 2 for now (Py2). This will change in a later release! File: /content/DarkFlow/darkflow/cython_utils/cy_yolo_findboxes.pyx\n",
            "  tree = Parsing.p_module(s, pxd, full_module_name)\n",
            "[3/3] Cythonizing darkflow/cython_utils/nms.pyx\n",
            "/usr/local/lib/python3.10/dist-packages/Cython/Compiler/Main.py:369: FutureWarning: Cython directive 'language_level' not set, using 2 for now (Py2). This will change in a later release! File: /content/DarkFlow/darkflow/cython_utils/nms.pxd\n",
            "  tree = Parsing.p_module(s, pxd, full_module_name)\n",
            "running build_ext\n",
            "building 'darkflow.cython_utils.nms' extension\n",
            "creating build\n",
            "creating build/temp.linux-x86_64-cpython-310\n",
            "creating build/temp.linux-x86_64-cpython-310/darkflow\n",
            "creating build/temp.linux-x86_64-cpython-310/darkflow/cython_utils\n",
            "x86_64-linux-gnu-gcc -Wno-unused-result -Wsign-compare -DNDEBUG -g -fwrapv -O2 -Wall -g -fstack-protector-strong -Wformat -Werror=format-security -g -fwrapv -O2 -fPIC -I/usr/local/lib/python3.10/dist-packages/numpy/core/include -I/usr/include/python3.10 -c darkflow/cython_utils/nms.c -o build/temp.linux-x86_64-cpython-310/darkflow/cython_utils/nms.o\n",
            "In file included from \u001b[01m\u001b[K/usr/local/lib/python3.10/dist-packages/numpy/core/include/numpy/ndarraytypes.h:1948\u001b[m\u001b[K,\n",
            "                 from \u001b[01m\u001b[K/usr/local/lib/python3.10/dist-packages/numpy/core/include/numpy/ndarrayobject.h:12\u001b[m\u001b[K,\n",
            "                 from \u001b[01m\u001b[K/usr/local/lib/python3.10/dist-packages/numpy/core/include/numpy/arrayobject.h:5\u001b[m\u001b[K,\n",
            "                 from \u001b[01m\u001b[Kdarkflow/cython_utils/nms.c:777\u001b[m\u001b[K:\n",
            "\u001b[01m\u001b[K/usr/local/lib/python3.10/dist-packages/numpy/core/include/numpy/npy_1_7_deprecated_api.h:17:2:\u001b[m\u001b[K \u001b[01;35m\u001b[Kwarning: \u001b[m\u001b[K#warning \"Using deprecated NumPy API, disable it with \" \"#define NPY_NO_DEPRECATED_API NPY_1_7_API_VERSION\" [\u001b[01;35m\u001b[K\u001b]8;;https://gcc.gnu.org/onlinedocs/gcc/Warning-Options.html#index-Wcpp\u0007-Wcpp\u001b]8;;\u0007\u001b[m\u001b[K]\n",
            "   17 | #\u001b[01;35m\u001b[Kwarning\u001b[m\u001b[K \"Using deprecated NumPy API, disable it with \" \\\n",
            "      |  \u001b[01;35m\u001b[K^~~~~~~\u001b[m\u001b[K\n",
            "creating build/lib.linux-x86_64-cpython-310\n",
            "creating build/lib.linux-x86_64-cpython-310/darkflow\n",
            "creating build/lib.linux-x86_64-cpython-310/darkflow/cython_utils\n",
            "x86_64-linux-gnu-gcc -shared -Wl,-O1 -Wl,-Bsymbolic-functions -Wl,-Bsymbolic-functions -g -fwrapv -O2 build/temp.linux-x86_64-cpython-310/darkflow/cython_utils/nms.o -L/usr/lib/x86_64-linux-gnu -lm -o build/lib.linux-x86_64-cpython-310/darkflow/cython_utils/nms.cpython-310-x86_64-linux-gnu.so\n",
            "building 'darkflow.cython_utils.cy_yolo2_findboxes' extension\n",
            "x86_64-linux-gnu-gcc -Wno-unused-result -Wsign-compare -DNDEBUG -g -fwrapv -O2 -Wall -g -fstack-protector-strong -Wformat -Werror=format-security -g -fwrapv -O2 -fPIC -I/usr/local/lib/python3.10/dist-packages/numpy/core/include -I/usr/include/python3.10 -c darkflow/cython_utils/cy_yolo2_findboxes.c -o build/temp.linux-x86_64-cpython-310/darkflow/cython_utils/cy_yolo2_findboxes.o\n",
            "In file included from \u001b[01m\u001b[K/usr/local/lib/python3.10/dist-packages/numpy/core/include/numpy/ndarraytypes.h:1948\u001b[m\u001b[K,\n",
            "                 from \u001b[01m\u001b[K/usr/local/lib/python3.10/dist-packages/numpy/core/include/numpy/ndarrayobject.h:12\u001b[m\u001b[K,\n",
            "                 from \u001b[01m\u001b[K/usr/local/lib/python3.10/dist-packages/numpy/core/include/numpy/arrayobject.h:5\u001b[m\u001b[K,\n",
            "                 from \u001b[01m\u001b[Kdarkflow/cython_utils/cy_yolo2_findboxes.c:777\u001b[m\u001b[K:\n",
            "\u001b[01m\u001b[K/usr/local/lib/python3.10/dist-packages/numpy/core/include/numpy/npy_1_7_deprecated_api.h:17:2:\u001b[m\u001b[K \u001b[01;35m\u001b[Kwarning: \u001b[m\u001b[K#warning \"Using deprecated NumPy API, disable it with \" \"#define NPY_NO_DEPRECATED_API NPY_1_7_API_VERSION\" [\u001b[01;35m\u001b[K\u001b]8;;https://gcc.gnu.org/onlinedocs/gcc/Warning-Options.html#index-Wcpp\u0007-Wcpp\u001b]8;;\u0007\u001b[m\u001b[K]\n",
            "   17 | #\u001b[01;35m\u001b[Kwarning\u001b[m\u001b[K \"Using deprecated NumPy API, disable it with \" \\\n",
            "      |  \u001b[01;35m\u001b[K^~~~~~~\u001b[m\u001b[K\n",
            "x86_64-linux-gnu-gcc -shared -Wl,-O1 -Wl,-Bsymbolic-functions -Wl,-Bsymbolic-functions -g -fwrapv -O2 build/temp.linux-x86_64-cpython-310/darkflow/cython_utils/cy_yolo2_findboxes.o -L/usr/lib/x86_64-linux-gnu -lm -o build/lib.linux-x86_64-cpython-310/darkflow/cython_utils/cy_yolo2_findboxes.cpython-310-x86_64-linux-gnu.so\n",
            "building 'darkflow.cython_utils.cy_yolo_findboxes' extension\n",
            "x86_64-linux-gnu-gcc -Wno-unused-result -Wsign-compare -DNDEBUG -g -fwrapv -O2 -Wall -g -fstack-protector-strong -Wformat -Werror=format-security -g -fwrapv -O2 -fPIC -I/usr/local/lib/python3.10/dist-packages/numpy/core/include -I/usr/include/python3.10 -c darkflow/cython_utils/cy_yolo_findboxes.c -o build/temp.linux-x86_64-cpython-310/darkflow/cython_utils/cy_yolo_findboxes.o\n",
            "In file included from \u001b[01m\u001b[K/usr/local/lib/python3.10/dist-packages/numpy/core/include/numpy/ndarraytypes.h:1948\u001b[m\u001b[K,\n",
            "                 from \u001b[01m\u001b[K/usr/local/lib/python3.10/dist-packages/numpy/core/include/numpy/ndarrayobject.h:12\u001b[m\u001b[K,\n",
            "                 from \u001b[01m\u001b[K/usr/local/lib/python3.10/dist-packages/numpy/core/include/numpy/arrayobject.h:5\u001b[m\u001b[K,\n",
            "                 from \u001b[01m\u001b[Kdarkflow/cython_utils/cy_yolo_findboxes.c:777\u001b[m\u001b[K:\n",
            "\u001b[01m\u001b[K/usr/local/lib/python3.10/dist-packages/numpy/core/include/numpy/npy_1_7_deprecated_api.h:17:2:\u001b[m\u001b[K \u001b[01;35m\u001b[Kwarning: \u001b[m\u001b[K#warning \"Using deprecated NumPy API, disable it with \" \"#define NPY_NO_DEPRECATED_API NPY_1_7_API_VERSION\" [\u001b[01;35m\u001b[K\u001b]8;;https://gcc.gnu.org/onlinedocs/gcc/Warning-Options.html#index-Wcpp\u0007-Wcpp\u001b]8;;\u0007\u001b[m\u001b[K]\n",
            "   17 | #\u001b[01;35m\u001b[Kwarning\u001b[m\u001b[K \"Using deprecated NumPy API, disable it with \" \\\n",
            "      |  \u001b[01;35m\u001b[K^~~~~~~\u001b[m\u001b[K\n",
            "x86_64-linux-gnu-gcc -shared -Wl,-O1 -Wl,-Bsymbolic-functions -Wl,-Bsymbolic-functions -g -fwrapv -O2 build/temp.linux-x86_64-cpython-310/darkflow/cython_utils/cy_yolo_findboxes.o -L/usr/lib/x86_64-linux-gnu -lm -o build/lib.linux-x86_64-cpython-310/darkflow/cython_utils/cy_yolo_findboxes.cpython-310-x86_64-linux-gnu.so\n",
            "copying build/lib.linux-x86_64-cpython-310/darkflow/cython_utils/nms.cpython-310-x86_64-linux-gnu.so -> darkflow/cython_utils\n",
            "copying build/lib.linux-x86_64-cpython-310/darkflow/cython_utils/cy_yolo2_findboxes.cpython-310-x86_64-linux-gnu.so -> darkflow/cython_utils\n",
            "copying build/lib.linux-x86_64-cpython-310/darkflow/cython_utils/cy_yolo_findboxes.cpython-310-x86_64-linux-gnu.so -> darkflow/cython_utils\n"
          ]
        }
      ]
    },
    {
      "cell_type": "code",
      "source": [
        "!python3 -m pip install -e .\n"
      ],
      "metadata": {
        "colab": {
          "base_uri": "https://localhost:8080/"
        },
        "id": "hiQ5PWkk1zZE",
        "outputId": "7ea1f7e5-1d27-4786-edf0-ca3306e45b95"
      },
      "execution_count": 4,
      "outputs": [
        {
          "output_type": "stream",
          "name": "stdout",
          "text": [
            "Obtaining file:///content/DarkFlow\n",
            "  Preparing metadata (setup.py) ... \u001b[?25l\u001b[?25hdone\n",
            "Installing collected packages: darkflow\n",
            "  Running setup.py develop for darkflow\n",
            "Successfully installed darkflow-1.0.0\n"
          ]
        }
      ]
    },
    {
      "cell_type": "code",
      "source": [
        "!flow --h\n"
      ],
      "metadata": {
        "colab": {
          "base_uri": "https://localhost:8080/"
        },
        "id": "P4xjrKt017iu",
        "outputId": "37c526ee-499e-41c8-e0c1-52238278ec25"
      },
      "execution_count": 5,
      "outputs": [
        {
          "output_type": "stream",
          "name": "stdout",
          "text": [
            "2023-09-07 04:12:54.600761: I tensorflow/core/platform/cpu_feature_guard.cc:182] This TensorFlow binary is optimized to use available CPU instructions in performance-critical operations.\n",
            "To enable the following instructions: AVX2 FMA, in other operations, rebuild TensorFlow with the appropriate compiler flags.\n",
            "2023-09-07 04:12:55.859289: W tensorflow/compiler/tf2tensorrt/utils/py_utils.cc:38] TF-TRT Warning: Could not find TensorRT\n",
            "\n",
            "Example usage: flow --imgdir sample_img/ --model cfg/yolo.cfg --load bin/yolo.weights\n",
            "\n",
            "Arguments:\n",
            "  --help, --h, -h  show this super helpful message and exit\n",
            "  --imgdir         path to testing directory with images\n",
            "  --binary         path to .weights directory\n",
            "  --config         path to .cfg directory\n",
            "  --dataset        path to dataset directory\n",
            "  --labels         path to labels file\n",
            "  --backup         path to backup folder\n",
            "  --summary        path to TensorBoard summaries directory\n",
            "  --annotation     path to annotation directory\n",
            "  --threshold      detection threshold\n",
            "  --model          configuration of choice\n",
            "  --trainer        training algorithm\n",
            "  --momentum       applicable for rmsprop and momentum optimizers\n",
            "  --verbalise      say out loud while building graph\n",
            "  --train          train the whole net\n",
            "  --load           how to initialize the net? Either from .weights or a checkpoint, or even from scratch\n",
            "  --savepb         save net and weight to a .pb file\n",
            "  --gpu            how much gpu (from 0.0 to 1.0)\n",
            "  --gpuName        GPU device name\n",
            "  --lr             learning rate\n",
            "  --keep           Number of most recent training results to save\n",
            "  --batch          batch size\n",
            "  --epoch          number of epoch\n",
            "  --save           save checkpoint every ? training examples\n",
            "  --demo           demo on webcam\n",
            "  --queue          process demo in batch\n",
            "  --json           Outputs bounding box information in json format.\n",
            "  --saveVideo      Records video from input video or camera\n",
            "  --pbLoad         path to .pb protobuf file (metaLoad must also be specified)\n",
            "  --metaLoad       path to .meta file generated during --savepb that corresponds to .pb file\n",
            "\n"
          ]
        }
      ]
    },
    {
      "cell_type": "code",
      "source": [
        "!wget https://github.com/digitalbrain79/pyyolo/raw/master/tiny-yolo.weights"
      ],
      "metadata": {
        "colab": {
          "base_uri": "https://localhost:8080/"
        },
        "id": "Cl9via-W79cy",
        "outputId": "d24661d7-b675-4d6c-dd02-c0f7a344e66e"
      },
      "execution_count": 7,
      "outputs": [
        {
          "output_type": "stream",
          "name": "stdout",
          "text": [
            "--2023-09-07 04:39:17--  https://github.com/digitalbrain79/pyyolo/raw/master/tiny-yolo.weights\n",
            "Resolving github.com (github.com)... 140.82.114.3\n",
            "Connecting to github.com (github.com)|140.82.114.3|:443... connected.\n",
            "HTTP request sent, awaiting response... 302 Found\n",
            "Location: https://raw.githubusercontent.com/digitalbrain79/pyyolo/master/tiny-yolo.weights [following]\n",
            "--2023-09-07 04:39:17--  https://raw.githubusercontent.com/digitalbrain79/pyyolo/master/tiny-yolo.weights\n",
            "Resolving raw.githubusercontent.com (raw.githubusercontent.com)... 185.199.109.133, 185.199.111.133, 185.199.110.133, ...\n",
            "Connecting to raw.githubusercontent.com (raw.githubusercontent.com)|185.199.109.133|:443... connected.\n",
            "HTTP request sent, awaiting response... 200 OK\n",
            "Length: 64701556 (62M) [application/octet-stream]\n",
            "Saving to: ‘tiny-yolo.weights’\n",
            "\n",
            "tiny-yolo.weights   100%[===================>]  61.70M   210MB/s    in 0.3s    \n",
            "\n",
            "2023-09-07 04:39:18 (210 MB/s) - ‘tiny-yolo.weights’ saved [64701556/64701556]\n",
            "\n"
          ]
        }
      ]
    },
    {
      "cell_type": "code",
      "source": [
        "!wget https://github.com/pjreddie/darknet/raw/master/cfg/yolov3-tiny.cfg"
      ],
      "metadata": {
        "colab": {
          "base_uri": "https://localhost:8080/"
        },
        "id": "3Fu3EQar8dxe",
        "outputId": "e3e5b422-2a79-45b1-d49e-ec288df4848e"
      },
      "execution_count": 9,
      "outputs": [
        {
          "output_type": "stream",
          "name": "stdout",
          "text": [
            "--2023-09-07 04:41:28--  https://github.com/pjreddie/darknet/raw/master/cfg/yolov3-tiny.cfg\n",
            "Resolving github.com (github.com)... 140.82.112.3\n",
            "Connecting to github.com (github.com)|140.82.112.3|:443... connected.\n",
            "HTTP request sent, awaiting response... 302 Found\n",
            "Location: https://raw.githubusercontent.com/pjreddie/darknet/master/cfg/yolov3-tiny.cfg [following]\n",
            "--2023-09-07 04:41:28--  https://raw.githubusercontent.com/pjreddie/darknet/master/cfg/yolov3-tiny.cfg\n",
            "Resolving raw.githubusercontent.com (raw.githubusercontent.com)... 185.199.111.133, 185.199.110.133, 185.199.108.133, ...\n",
            "Connecting to raw.githubusercontent.com (raw.githubusercontent.com)|185.199.111.133|:443... connected.\n",
            "HTTP request sent, awaiting response... 200 OK\n",
            "Length: 1915 (1.9K) [text/plain]\n",
            "Saving to: ‘yolov3-tiny.cfg’\n",
            "\n",
            "yolov3-tiny.cfg     100%[===================>]   1.87K  --.-KB/s    in 0s      \n",
            "\n",
            "2023-09-07 04:41:28 (32.8 MB/s) - ‘yolov3-tiny.cfg’ saved [1915/1915]\n",
            "\n"
          ]
        }
      ]
    },
    {
      "cell_type": "code",
      "source": [
        "!wget https://github.com/smarthomefans/darknet-test/raw/master/yolov3-tiny.weights"
      ],
      "metadata": {
        "colab": {
          "base_uri": "https://localhost:8080/"
        },
        "id": "BO2i5QOf8ldS",
        "outputId": "2e4ab465-86fd-4145-efe9-1e20022de1e8"
      },
      "execution_count": 10,
      "outputs": [
        {
          "output_type": "stream",
          "name": "stdout",
          "text": [
            "--2023-09-07 04:41:59--  https://github.com/smarthomefans/darknet-test/raw/master/yolov3-tiny.weights\n",
            "Resolving github.com (github.com)... 140.82.114.4\n",
            "Connecting to github.com (github.com)|140.82.114.4|:443... connected.\n",
            "HTTP request sent, awaiting response... 302 Found\n",
            "Location: https://raw.githubusercontent.com/smarthomefans/darknet-test/master/yolov3-tiny.weights [following]\n",
            "--2023-09-07 04:41:59--  https://raw.githubusercontent.com/smarthomefans/darknet-test/master/yolov3-tiny.weights\n",
            "Resolving raw.githubusercontent.com (raw.githubusercontent.com)... 185.199.108.133, 185.199.109.133, 185.199.110.133, ...\n",
            "Connecting to raw.githubusercontent.com (raw.githubusercontent.com)|185.199.108.133|:443... connected.\n",
            "HTTP request sent, awaiting response... 200 OK\n",
            "Length: 35434956 (34M) [application/octet-stream]\n",
            "Saving to: ‘yolov3-tiny.weights’\n",
            "\n",
            "yolov3-tiny.weights 100%[===================>]  33.79M   159MB/s    in 0.2s    \n",
            "\n",
            "2023-09-07 04:42:00 (159 MB/s) - ‘yolov3-tiny.weights’ saved [35434956/35434956]\n",
            "\n"
          ]
        }
      ]
    },
    {
      "cell_type": "code",
      "source": [
        "!flow --model /content/DarkFlow/cfg/tiny-yolo.cfg --load //content/DarkFlow/tiny-yolo.weights\n"
      ],
      "metadata": {
        "colab": {
          "base_uri": "https://localhost:8080/"
        },
        "id": "yuAkLoIP7tDR",
        "outputId": "1fdb07ff-37d1-4541-ef46-a3b04d027402"
      },
      "execution_count": 12,
      "outputs": [
        {
          "output_type": "stream",
          "name": "stdout",
          "text": [
            "2023-09-07 04:44:40.296537: I tensorflow/core/platform/cpu_feature_guard.cc:182] This TensorFlow binary is optimized to use available CPU instructions in performance-critical operations.\n",
            "To enable the following instructions: AVX2 FMA, in other operations, rebuild TensorFlow with the appropriate compiler flags.\n",
            "2023-09-07 04:44:41.607500: W tensorflow/compiler/tf2tensorrt/utils/py_utils.cc:38] TF-TRT Warning: Could not find TensorRT\n",
            "\n",
            "Parsing ./cfg/tiny-yolo.cfg\n",
            "Parsing /content/DarkFlow/cfg/tiny-yolo.cfg\n",
            "Loading //content/DarkFlow/tiny-yolo.weights ...\n",
            "Successfully identified 64701556 bytes\n",
            "Finished in 0.004912853240966797s\n",
            "Model has a coco model name, loading coco labels.\n",
            "\n",
            "Building net ...\n",
            "Source | Train? | Layer description                | Output size\n",
            "-------+--------+----------------------------------+---------------\n",
            "       |        | input                            | (None, 416, 416, 3)\n",
            " Load  |  Yep!  | conv 3x3p1_1  +bnorm  leaky      | (None, 416, 416, 16)\n",
            " Load  |  Yep!  | maxp 2x2p0_2                     | (None, 208, 208, 16)\n",
            " Load  |  Yep!  | conv 3x3p1_1  +bnorm  leaky      | (None, 208, 208, 32)\n",
            " Load  |  Yep!  | maxp 2x2p0_2                     | (None, 104, 104, 32)\n",
            " Load  |  Yep!  | conv 3x3p1_1  +bnorm  leaky      | (None, 104, 104, 64)\n",
            " Load  |  Yep!  | maxp 2x2p0_2                     | (None, 52, 52, 64)\n",
            " Load  |  Yep!  | conv 3x3p1_1  +bnorm  leaky      | (None, 52, 52, 128)\n",
            " Load  |  Yep!  | maxp 2x2p0_2                     | (None, 26, 26, 128)\n",
            " Load  |  Yep!  | conv 3x3p1_1  +bnorm  leaky      | (None, 26, 26, 256)\n",
            " Load  |  Yep!  | maxp 2x2p0_2                     | (None, 13, 13, 256)\n",
            " Load  |  Yep!  | conv 3x3p1_1  +bnorm  leaky      | (None, 13, 13, 512)\n",
            " Load  |  Yep!  | maxp 2x2p0_1                     | (None, 13, 13, 512)\n",
            " Load  |  Yep!  | conv 3x3p1_1  +bnorm  leaky      | (None, 13, 13, 1024)\n",
            " Load  |  Yep!  | conv 3x3p1_1  +bnorm  leaky      | (None, 13, 13, 1024)\n",
            " Load  |  Yep!  | conv 1x1p0_1    linear           | (None, 13, 13, 425)\n",
            "-------+--------+----------------------------------+---------------\n",
            "Running entirely on CPU\n",
            "2023-09-07 04:44:46.118913: I tensorflow/compiler/mlir/mlir_graph_optimization_pass.cc:353] MLIR V1 optimization pass is not enabled\n",
            "Finished in 4.854400873184204s\n",
            "\n",
            "Forwarding 8 inputs ...\n",
            "Total time = 1.8607301712036133s / 8 inps = 4.299387479069682 ips\n",
            "Post processing 8 inputs ...\n",
            "Total time = 0.48450779914855957s / 8 inps = 16.511602112615414 ips\n"
          ]
        }
      ]
    },
    {
      "cell_type": "code",
      "source": [
        "!flow --imgdir sample_img/ --model cfg/tiny-yolo.cfg --load /content/DarkFlow/tiny-yolo.weights\n"
      ],
      "metadata": {
        "colab": {
          "base_uri": "https://localhost:8080/"
        },
        "id": "bHI9eMUR9G0T",
        "outputId": "b3bddc1b-f1f6-4ae7-8488-d93d03efb3cc"
      },
      "execution_count": 16,
      "outputs": [
        {
          "output_type": "stream",
          "name": "stdout",
          "text": [
            "2023-09-07 04:45:54.007883: I tensorflow/core/platform/cpu_feature_guard.cc:182] This TensorFlow binary is optimized to use available CPU instructions in performance-critical operations.\n",
            "To enable the following instructions: AVX2 FMA, in other operations, rebuild TensorFlow with the appropriate compiler flags.\n",
            "2023-09-07 04:45:55.287740: W tensorflow/compiler/tf2tensorrt/utils/py_utils.cc:38] TF-TRT Warning: Could not find TensorRT\n",
            "\n",
            "Parsing ./cfg/tiny-yolo.cfg\n",
            "Parsing cfg/tiny-yolo.cfg\n",
            "Loading /content/DarkFlow/tiny-yolo.weights ...\n",
            "Successfully identified 64701556 bytes\n",
            "Finished in 0.0038099288940429688s\n",
            "Model has a coco model name, loading coco labels.\n",
            "\n",
            "Building net ...\n",
            "Source | Train? | Layer description                | Output size\n",
            "-------+--------+----------------------------------+---------------\n",
            "       |        | input                            | (None, 416, 416, 3)\n",
            " Load  |  Yep!  | conv 3x3p1_1  +bnorm  leaky      | (None, 416, 416, 16)\n",
            " Load  |  Yep!  | maxp 2x2p0_2                     | (None, 208, 208, 16)\n",
            " Load  |  Yep!  | conv 3x3p1_1  +bnorm  leaky      | (None, 208, 208, 32)\n",
            " Load  |  Yep!  | maxp 2x2p0_2                     | (None, 104, 104, 32)\n",
            " Load  |  Yep!  | conv 3x3p1_1  +bnorm  leaky      | (None, 104, 104, 64)\n",
            " Load  |  Yep!  | maxp 2x2p0_2                     | (None, 52, 52, 64)\n",
            " Load  |  Yep!  | conv 3x3p1_1  +bnorm  leaky      | (None, 52, 52, 128)\n",
            " Load  |  Yep!  | maxp 2x2p0_2                     | (None, 26, 26, 128)\n",
            " Load  |  Yep!  | conv 3x3p1_1  +bnorm  leaky      | (None, 26, 26, 256)\n",
            " Load  |  Yep!  | maxp 2x2p0_2                     | (None, 13, 13, 256)\n",
            " Load  |  Yep!  | conv 3x3p1_1  +bnorm  leaky      | (None, 13, 13, 512)\n",
            " Load  |  Yep!  | maxp 2x2p0_1                     | (None, 13, 13, 512)\n",
            " Load  |  Yep!  | conv 3x3p1_1  +bnorm  leaky      | (None, 13, 13, 1024)\n",
            " Load  |  Yep!  | conv 3x3p1_1  +bnorm  leaky      | (None, 13, 13, 1024)\n",
            " Load  |  Yep!  | conv 1x1p0_1    linear           | (None, 13, 13, 425)\n",
            "-------+--------+----------------------------------+---------------\n",
            "Running entirely on CPU\n",
            "2023-09-07 04:45:59.880080: I tensorflow/compiler/mlir/mlir_graph_optimization_pass.cc:353] MLIR V1 optimization pass is not enabled\n",
            "Finished in 3.375318765640259s\n",
            "\n",
            "Forwarding 8 inputs ...\n",
            "Total time = 1.8594093322753906s / 8 inps = 4.30244156632809 ips\n",
            "Post processing 8 inputs ...\n",
            "Total time = 0.47867751121520996s / 8 inps = 16.712713283083936 ips\n"
          ]
        }
      ]
    },
    {
      "cell_type": "code",
      "source": [
        "!pip install pytube"
      ],
      "metadata": {
        "colab": {
          "base_uri": "https://localhost:8080/"
        },
        "id": "oXhEXNWW-wk-",
        "outputId": "414a06c5-218b-4497-ec1c-eb0c88f6d5a0"
      },
      "execution_count": 17,
      "outputs": [
        {
          "output_type": "stream",
          "name": "stdout",
          "text": [
            "Collecting pytube\n",
            "  Downloading pytube-15.0.0-py3-none-any.whl (57 kB)\n",
            "\u001b[?25l     \u001b[90m━━━━━━━━━━━━━━━━━━━━━━━━━━━━━━━━━━━━━━━━\u001b[0m \u001b[32m0.0/57.6 kB\u001b[0m \u001b[31m?\u001b[0m eta \u001b[36m-:--:--\u001b[0m\r\u001b[2K     \u001b[91m━━━━━━━━━━━━━━━━━━━━━━━━━━━━━━━━━━━\u001b[0m\u001b[91m╸\u001b[0m\u001b[90m━━━━\u001b[0m \u001b[32m51.2/57.6 kB\u001b[0m \u001b[31m1.2 MB/s\u001b[0m eta \u001b[36m0:00:01\u001b[0m\r\u001b[2K     \u001b[90m━━━━━━━━━━━━━━━━━━━━━━━━━━━━━━━━━━━━━━━━\u001b[0m \u001b[32m57.6/57.6 kB\u001b[0m \u001b[31m1.0 MB/s\u001b[0m eta \u001b[36m0:00:00\u001b[0m\n",
            "\u001b[?25hInstalling collected packages: pytube\n",
            "Successfully installed pytube-15.0.0\n"
          ]
        }
      ]
    },
    {
      "cell_type": "code",
      "source": [
        "import pytube\n",
        "\n",
        "def download_youtube_video(video_url, folder_name):\n",
        "    \"\"\"Downloads a YouTube video in 720p resolution to a specified folder.\n",
        "\n",
        "    Args:\n",
        "        video_url: The URL of the YouTube video to download.\n",
        "        folder_name: The name of the folder to download the video to.\n",
        "    \"\"\"\n",
        "\n",
        "    yt = pytube.YouTube(video_url)\n",
        "    video_stream = yt.streams.filter(res=\"720p\", progressive=True).first()\n",
        "\n",
        "    if video_stream:\n",
        "        video_stream.download(folder_name)\n",
        "        print(f\"Video '{yt.title}' downloaded successfully!\")\n",
        "    else:\n",
        "        print(f\"No suitable video stream found for '{yt.title}'.\")\n",
        "\n",
        "if __name__ == \"__main__\":\n",
        "    video_urls = [\n",
        "        \"https://www.youtube.com/watch?v=mP6ctG9fkRw\"\n",
        "    ]\n",
        "    folder_name = \"youtubedeos\"\n",
        "\n",
        "    for video_url in video_urls:\n",
        "        download_youtube_video(video_url, folder_name)"
      ],
      "metadata": {
        "colab": {
          "base_uri": "https://localhost:8080/"
        },
        "id": "JGIWOSvc-bEu",
        "outputId": "e4cbd816-e18c-40ed-aa8e-0d31a793541f"
      },
      "execution_count": 18,
      "outputs": [
        {
          "output_type": "stream",
          "name": "stdout",
          "text": [
            "Video 'Chennai street circus in Marina beach a girl walking on rope and driving unicycle dangerous stunt' downloaded successfully!\n"
          ]
        }
      ]
    },
    {
      "cell_type": "code",
      "source": [
        "import cv2\n",
        "from darkflow.net.build import TFNet\n",
        "import argparse\n",
        "\n",
        "# Specify the paths within Colab\n",
        "input_video_path = '/content/DarkFlow/youtubedeos/ghjgfjjgj.mp4'  # Replace with the actual path\n",
        "output_video_path = '/content/output_video.mp4'  # Replace with the desired output path\n",
        "model_cfg_path = '/content/DarkFlow/cfg/tiny-yolo.cfg'  # Replace with the actual path\n",
        "weights_path = '/content/DarkFlow/tiny-yolo.weights'  # Replace with the actual path\n",
        "\n",
        "# Initialize the TFNet object with the specified model and weights\n",
        "options = {\n",
        "    'model': model_cfg_path,\n",
        "    'load': weights_path,\n",
        "    # Add other options as needed\n",
        "}\n",
        "tfnet = TFNet(options)\n",
        "\n",
        "# Open the input video file\n",
        "cap = cv2.VideoCapture(input_video_path)\n",
        "\n",
        "# Get the video properties (frame width, height, and frames per second)\n",
        "frame_width = int(cap.get(3))\n",
        "frame_height = int(cap.get(4))\n",
        "fps = int(cap.get(5))\n",
        "\n",
        "# Create an output video writer\n",
        "fourcc = cv2.VideoWriter_fourcc(*'MP4V')\n",
        "out = cv2.VideoWriter(output_video_path, fourcc, fps, (frame_width, frame_height))\n",
        "\n",
        "# Process each frame in the input video\n",
        "while True:\n",
        "    ret, frame = cap.read()\n",
        "    if not ret:\n",
        "        break\n",
        "\n",
        "    # Perform object detection on the frame\n",
        "    results = tfnet.return_predict(frame)\n",
        "\n",
        "    # Draw bounding boxes on the frame\n",
        "    for result in results:\n",
        "        tl = (result['topleft']['x'], result['topleft']['y'])\n",
        "        br = (result['bottomright']['x'], result['bottomright']['y'])\n",
        "        label = result['label']\n",
        "        confidence = result['confidence']\n",
        "        frame = cv2.rectangle(frame, tl, br, (0, 255, 0), 2)\n",
        "        frame = cv2.putText(frame, f'{label}: {confidence:.2f}', tl, cv2.FONT_HERSHEY_SIMPLEX, 0.5, (255, 255, 255), 2)\n",
        "\n",
        "    # Write the processed frame to the output video\n",
        "    out.write(frame)\n",
        "\n",
        "# Release video objects\n",
        "cap.release()\n",
        "out.release()\n",
        "\n",
        "# Close any OpenCV windows if used\n",
        "cv2.destroyAllWindows()\n"
      ],
      "metadata": {
        "colab": {
          "base_uri": "https://localhost:8080/"
        },
        "id": "kHq99FwU93ZA",
        "outputId": "4587c9fc-2ff5-4563-cc6a-9912a0972f4d"
      },
      "execution_count": 19,
      "outputs": [
        {
          "output_type": "stream",
          "name": "stdout",
          "text": [
            "Parsing ./cfg/tiny-yolo.cfg\n",
            "Parsing /content/DarkFlow/cfg/tiny-yolo.cfg\n",
            "Loading /content/DarkFlow/tiny-yolo.weights ...\n",
            "Successfully identified 64701556 bytes\n",
            "Finished in 0.012163162231445312s\n",
            "Model has a coco model name, loading coco labels.\n",
            "\n",
            "Building net ...\n",
            "Source | Train? | Layer description                | Output size\n",
            "-------+--------+----------------------------------+---------------\n",
            "       |        | input                            | (None, 416, 416, 3)\n",
            " Load  |  Yep!  | conv 3x3p1_1  +bnorm  leaky      | (None, 416, 416, 16)\n",
            " Load  |  Yep!  | maxp 2x2p0_2                     | (None, 208, 208, 16)\n",
            " Load  |  Yep!  | conv 3x3p1_1  +bnorm  leaky      | (None, 208, 208, 32)\n",
            " Load  |  Yep!  | maxp 2x2p0_2                     | (None, 104, 104, 32)\n",
            " Load  |  Yep!  | conv 3x3p1_1  +bnorm  leaky      | (None, 104, 104, 64)\n",
            " Load  |  Yep!  | maxp 2x2p0_2                     | (None, 52, 52, 64)\n",
            " Load  |  Yep!  | conv 3x3p1_1  +bnorm  leaky      | (None, 52, 52, 128)\n",
            " Load  |  Yep!  | maxp 2x2p0_2                     | (None, 26, 26, 128)\n",
            " Load  |  Yep!  | conv 3x3p1_1  +bnorm  leaky      | (None, 26, 26, 256)\n",
            " Load  |  Yep!  | maxp 2x2p0_2                     | (None, 13, 13, 256)\n",
            " Load  |  Yep!  | conv 3x3p1_1  +bnorm  leaky      | (None, 13, 13, 512)\n",
            " Load  |  Yep!  | maxp 2x2p0_1                     | (None, 13, 13, 512)\n",
            " Load  |  Yep!  | conv 3x3p1_1  +bnorm  leaky      | (None, 13, 13, 1024)\n",
            " Load  |  Yep!  | conv 3x3p1_1  +bnorm  leaky      | (None, 13, 13, 1024)\n",
            " Load  |  Yep!  | conv 1x1p0_1    linear           | (None, 13, 13, 425)\n",
            "-------+--------+----------------------------------+---------------\n",
            "Running entirely on CPU\n",
            "Finished in 4.108212471008301s\n",
            "\n"
          ]
        }
      ]
    },
    {
      "cell_type": "code",
      "source": [
        "import cv2\n",
        "from darkflow.net.build import TFNet\n",
        "import argparse\n",
        "import csv\n",
        "import time\n",
        "\n",
        "# Specify the paths within Colab\n",
        "input_video_path = '/content/DarkFlow/youtubedeos/ghjgfjjgj.mp4'  # Replace with the actual path\n",
        "output_video_path = '/content/output_video.mp4'  # Replace with the desired output path\n",
        "model_cfg_path = '/content/DarkFlow/cfg/tiny-yolo.cfg'  # Replace with the actual path\n",
        "weights_path = '/content/DarkFlow/tiny-yolo.weights'  # Replace with the actual path\n",
        "output_csv_path = '/content/detection_results.csv'  # Replace with the desired CSV file path\n",
        "\n",
        "# Initialize the TFNet object with the specified model and weights\n",
        "options = {\n",
        "    'model': model_cfg_path,\n",
        "    'load': weights_path,\n",
        "    # Add other options as needed\n",
        "}\n",
        "tfnet = TFNet(options)\n",
        "\n",
        "# Open the input video file\n",
        "cap = cv2.VideoCapture(input_video_path)\n",
        "\n",
        "# Get the video properties (frame width, height, and frames per second)\n",
        "frame_width = int(cap.get(3))\n",
        "frame_height = int(cap.get(4))\n",
        "fps = int(cap.get(5))\n",
        "\n",
        "# Create an output video writer\n",
        "fourcc = cv2.VideoWriter_fourcc(*'MP4V')\n",
        "out = cv2.VideoWriter(output_video_path, fourcc, fps, (frame_width, frame_height))\n",
        "\n",
        "# Create a CSV file for storing detection results\n",
        "with open(output_csv_path, mode='w', newline='') as csv_file:\n",
        "    fieldnames = ['Timestamp', 'Label', 'Confidence', 'X1', 'Y1', 'X2', 'Y2']\n",
        "    csv_writer = csv.DictWriter(csv_file, fieldnames=fieldnames)\n",
        "    csv_writer.writeheader()\n",
        "\n",
        "    # Process each frame in the input video\n",
        "    while True:\n",
        "        ret, frame = cap.read()\n",
        "        if not ret:\n",
        "            break\n",
        "\n",
        "        # Perform object detection on the frame\n",
        "        results = tfnet.return_predict(frame)\n",
        "\n",
        "        # Get the current timestamp\n",
        "        timestamp = time.time()\n",
        "\n",
        "        # Process detection results and write to CSV\n",
        "        for result in results:\n",
        "            label = result['label']\n",
        "            confidence = result['confidence']\n",
        "            x1 = result['topleft']['x']\n",
        "            y1 = result['topleft']['y']\n",
        "            x2 = result['bottomright']['x']\n",
        "            y2 = result['bottomright']['y']\n",
        "\n",
        "            # Write detection results to CSV\n",
        "            csv_writer.writerow({'Timestamp': timestamp, 'Label': label, 'Confidence': confidence,\n",
        "                                 'X1': x1, 'Y1': y1, 'X2': x2, 'Y2': y2})\n",
        "\n",
        "        # Draw bounding boxes on the frame\n",
        "        for result in results:\n",
        "            tl = (result['topleft']['x'], result['topleft']['y'])\n",
        "            br = (result['bottomright']['x'], result['bottomright']['y'])\n",
        "            label = result['label']\n",
        "            confidence = result['confidence']\n",
        "            frame = cv2.rectangle(frame, tl, br, (0, 255, 0), 2)\n",
        "            frame = cv2.putText(frame, f'{label}: {confidence:.2f}', tl, cv2.FONT_HERSHEY_SIMPLEX, 0.5, (255, 255, 255), 2)\n",
        "\n",
        "        # Write the processed frame to the output video\n",
        "        out.write(frame)\n",
        "\n",
        "# Release video objects\n",
        "cap.release()\n",
        "out.release()\n",
        "\n",
        "# Close any OpenCV windows if used\n",
        "cv2.destroyAllWindows()\n"
      ],
      "metadata": {
        "colab": {
          "base_uri": "https://localhost:8080/"
        },
        "id": "PaJukZlkAnsg",
        "outputId": "514912e6-0c53-47ef-9198-45cff273861f"
      },
      "execution_count": 20,
      "outputs": [
        {
          "output_type": "stream",
          "name": "stdout",
          "text": [
            "Parsing ./cfg/tiny-yolo.cfg\n",
            "Parsing /content/DarkFlow/cfg/tiny-yolo.cfg\n",
            "Loading /content/DarkFlow/tiny-yolo.weights ...\n",
            "Successfully identified 64701556 bytes\n",
            "Finished in 0.009141921997070312s\n",
            "Model has a coco model name, loading coco labels.\n",
            "\n",
            "Building net ...\n",
            "Source | Train? | Layer description                | Output size\n",
            "-------+--------+----------------------------------+---------------\n",
            "       |        | input                            | (None, 416, 416, 3)\n",
            " Load  |  Yep!  | conv 3x3p1_1  +bnorm  leaky      | (None, 416, 416, 16)\n",
            " Load  |  Yep!  | maxp 2x2p0_2                     | (None, 208, 208, 16)\n",
            " Load  |  Yep!  | conv 3x3p1_1  +bnorm  leaky      | (None, 208, 208, 32)\n",
            " Load  |  Yep!  | maxp 2x2p0_2                     | (None, 104, 104, 32)\n",
            " Load  |  Yep!  | conv 3x3p1_1  +bnorm  leaky      | (None, 104, 104, 64)\n",
            " Load  |  Yep!  | maxp 2x2p0_2                     | (None, 52, 52, 64)\n",
            " Load  |  Yep!  | conv 3x3p1_1  +bnorm  leaky      | (None, 52, 52, 128)\n",
            " Load  |  Yep!  | maxp 2x2p0_2                     | (None, 26, 26, 128)\n",
            " Load  |  Yep!  | conv 3x3p1_1  +bnorm  leaky      | (None, 26, 26, 256)\n",
            " Load  |  Yep!  | maxp 2x2p0_2                     | (None, 13, 13, 256)\n",
            " Load  |  Yep!  | conv 3x3p1_1  +bnorm  leaky      | (None, 13, 13, 512)\n",
            " Load  |  Yep!  | maxp 2x2p0_1                     | (None, 13, 13, 512)\n",
            " Load  |  Yep!  | conv 3x3p1_1  +bnorm  leaky      | (None, 13, 13, 1024)\n",
            " Load  |  Yep!  | conv 3x3p1_1  +bnorm  leaky      | (None, 13, 13, 1024)\n",
            " Load  |  Yep!  | conv 1x1p0_1    linear           | (None, 13, 13, 425)\n",
            "-------+--------+----------------------------------+---------------\n",
            "Running entirely on CPU\n",
            "Finished in 3.6460623741149902s\n",
            "\n"
          ]
        }
      ]
    }
  ]
}